{
 "cells": [
  {
   "cell_type": "code",
   "execution_count": 1,
   "metadata": {},
   "outputs": [],
   "source": [
    "data={'model_trainer_ref_artifact': {'trained_model_file_path': '/home/rohii/Desktop/Projects/finance-complaint/finance_artifact/model_trainer/20240409_010626/trained_model/finance_estimator', 'label_indexer_model_file_path': '/home/rohii/Desktop/Projects/finance-complaint/finance_artifact/model_trainer/20240409_010626/label_indexer'}, 'model_trainer_train_metric_artifact': {'f1_score': 0.8323223186625319, 'precision_score': 0.8107160851330072, 'recall_score': 0.8618937644341801}, 'model_trainer_test_metric_artifact': {'f1_score': 0.8610711544640307, 'precision_score': 0.8400419311495159, 'recall_score': 0.8849557522123893}}"
   ]
  },
  {
   "cell_type": "code",
   "execution_count": 2,
   "metadata": {},
   "outputs": [],
   "source": [
    "from finance_complaint.entity.artifact_entity import ModelTrainerArtifact"
   ]
  },
  {
   "cell_type": "code",
   "execution_count": 3,
   "metadata": {},
   "outputs": [],
   "source": [
    "model = ModelTrainerArtifact.construct_object(**data)"
   ]
  },
  {
   "cell_type": "code",
   "execution_count": 4,
   "metadata": {},
   "outputs": [
    {
     "data": {
      "text/plain": [
       "{'model_trainer_ref_artifact': {'trained_model_file_path': '/home/rohii/Desktop/Projects/finance-complaint/finance_artifact/model_trainer/20240409_010626/trained_model/finance_estimator',\n",
       "  'label_indexer_model_file_path': '/home/rohii/Desktop/Projects/finance-complaint/finance_artifact/model_trainer/20240409_010626/label_indexer'},\n",
       " 'model_trainer_train_metric_artifact': {'f1_score': 0.8323223186625319,\n",
       "  'precision_score': 0.8107160851330072,\n",
       "  'recall_score': 0.8618937644341801},\n",
       " 'model_trainer_test_metric_artifact': {'f1_score': 0.8610711544640307,\n",
       "  'precision_score': 0.8400419311495159,\n",
       "  'recall_score': 0.8849557522123893}}"
      ]
     },
     "execution_count": 4,
     "metadata": {},
     "output_type": "execute_result"
    }
   ],
   "source": [
    "model._asdict()"
   ]
  },
  {
   "cell_type": "code",
   "execution_count": 5,
   "metadata": {},
   "outputs": [],
   "source": [
    "from finance_complaint.entity.config_entity import PredictionPipelineConfig"
   ]
  },
  {
   "cell_type": "code",
   "execution_count": 6,
   "metadata": {},
   "outputs": [],
   "source": [
    "prediction_pipeline_config = PredictionPipelineConfig()"
   ]
  },
  {
   "cell_type": "code",
   "execution_count": 7,
   "metadata": {},
   "outputs": [
    {
     "data": {
      "text/plain": [
       "{'input_dir': 'finance_data/input/finance_complaint',\n",
       " 'prediction_dir': 'finance_data/prediction/20240425_004704',\n",
       " 'failed_dir': 'finance_data/failed/20240425_004704',\n",
       " 'archive_dir': 'finance_data/archive/20240425_004704',\n",
       " 'region_name': 'ap-south-1'}"
      ]
     },
     "execution_count": 7,
     "metadata": {},
     "output_type": "execute_result"
    }
   ],
   "source": [
    "prediction_pipeline_config.__dict__"
   ]
  },
  {
   "cell_type": "code",
   "execution_count": 8,
   "metadata": {},
   "outputs": [],
   "source": [
    "from finance_complaint.constant.prediction_pipeline_config.file_config import S3_DATA_BUCKET_NAME"
   ]
  },
  {
   "cell_type": "code",
   "execution_count": 9,
   "metadata": {},
   "outputs": [
    {
     "data": {
      "text/plain": [
       "'finance-consumer3'"
      ]
     },
     "execution_count": 9,
     "metadata": {},
     "output_type": "execute_result"
    }
   ],
   "source": [
    "S3_DATA_BUCKET_NAME"
   ]
  },
  {
   "cell_type": "code",
   "execution_count": 10,
   "metadata": {},
   "outputs": [],
   "source": [
    "s3_file_path = \"s3n://finance-cat-service/finance_data/input/finance_complaint\""
   ]
  },
  {
   "cell_type": "code",
   "execution_count": 11,
   "metadata": {},
   "outputs": [],
   "source": [
    "file_path=\"/home/rohii/Desktop/Projects/finance-complaint/finance_artifact/data_ingestion/feature_store/finance_complaint\""
   ]
  },
  {
   "cell_type": "code",
   "execution_count": 12,
   "metadata": {},
   "outputs": [
    {
     "name": "stdout",
     "output_type": "stream",
     "text": [
      ":: loading settings :: url = jar:file:/home/rohii/Desktop/Projects/finance-complaint/venv/lib/python3.12/site-packages/pyspark/jars/ivy-2.5.1.jar!/org/apache/ivy/core/settings/ivysettings.xml\n"
     ]
    },
    {
     "name": "stderr",
     "output_type": "stream",
     "text": [
      "Ivy Default Cache set to: /home/rohii/.ivy2/cache\n",
      "The jars for the packages stored in: /home/rohii/.ivy2/jars\n",
      "com.amazonaws#aws-java-sdk added as a dependency\n",
      "org.apache.hadoop#hadoop-aws added as a dependency\n",
      ":: resolving dependencies :: org.apache.spark#spark-submit-parent-93fc3e7f-a8dc-4ae4-8923-777b42bffe8d;1.0\n",
      "\tconfs: [default]\n",
      "\tfound com.amazonaws#aws-java-sdk;1.7.4 in central\n",
      "\tfound commons-logging#commons-logging;1.1.1 in central\n",
      "\tfound org.apache.httpcomponents#httpclient;4.2 in central\n",
      "\tfound org.apache.httpcomponents#httpcore;4.2 in central\n",
      "\tfound commons-codec#commons-codec;1.3 in central\n",
      "\tfound com.fasterxml.jackson.core#jackson-core;2.1.1 in central\n",
      "\tfound com.fasterxml.jackson.core#jackson-databind;2.1.1 in central\n",
      "\tfound com.fasterxml.jackson.core#jackson-annotations;2.1.1 in central\n",
      "\tfound joda-time#joda-time;2.12.7 in central\n",
      "\t[2.12.7] joda-time#joda-time;[2.2,)\n",
      "\tfound org.apache.hadoop#hadoop-aws;2.7.3 in central\n",
      "\tfound org.apache.hadoop#hadoop-common;2.7.3 in central\n",
      "\tfound org.apache.hadoop#hadoop-annotations;2.7.3 in central\n",
      "\tfound com.google.guava#guava;11.0.2 in central\n",
      "\tfound com.google.code.findbugs#jsr305;3.0.0 in central\n",
      "\tfound commons-cli#commons-cli;1.2 in central\n",
      "\tfound org.apache.commons#commons-math3;3.1.1 in central\n",
      "\tfound xmlenc#xmlenc;0.52 in central\n",
      "\tfound commons-httpclient#commons-httpclient;3.1 in central\n",
      "\tfound commons-logging#commons-logging;1.1.3 in central\n",
      "\tfound commons-codec#commons-codec;1.4 in central\n",
      "\tfound commons-io#commons-io;2.4 in central\n",
      "\tfound commons-net#commons-net;3.1 in central\n",
      "\tfound commons-collections#commons-collections;3.2.2 in central\n",
      "\tfound javax.servlet#servlet-api;2.5 in central\n",
      "\tfound org.mortbay.jetty#jetty;6.1.26 in central\n",
      "\tfound org.mortbay.jetty#jetty-util;6.1.26 in central\n",
      "\tfound com.sun.jersey#jersey-core;1.9 in central\n",
      "\tfound com.sun.jersey#jersey-json;1.9 in central\n",
      "\tfound org.codehaus.jettison#jettison;1.1 in central\n",
      "\tfound com.sun.xml.bind#jaxb-impl;2.2.3-1 in central\n",
      "\tfound javax.xml.bind#jaxb-api;2.2.2 in central\n",
      "\tfound javax.xml.stream#stax-api;1.0-2 in central\n",
      "\tfound javax.activation#activation;1.1 in central\n",
      "\tfound org.codehaus.jackson#jackson-core-asl;1.9.13 in central\n",
      "\tfound org.codehaus.jackson#jackson-mapper-asl;1.9.13 in central\n",
      "\tfound org.codehaus.jackson#jackson-jaxrs;1.9.13 in central\n",
      "\tfound org.codehaus.jackson#jackson-xc;1.9.13 in central\n",
      "\tfound com.sun.jersey#jersey-server;1.9 in central\n",
      "\tfound asm#asm;3.2 in central\n",
      "\tfound log4j#log4j;1.2.17 in central\n",
      "\tfound net.java.dev.jets3t#jets3t;0.9.0 in central\n",
      "\tfound org.apache.httpcomponents#httpclient;4.2.5 in central\n",
      "\tfound org.apache.httpcomponents#httpcore;4.2.5 in central\n",
      "\tfound com.jamesmurty.utils#java-xmlbuilder;0.4 in central\n",
      "\tfound commons-lang#commons-lang;2.6 in central\n",
      "\tfound commons-configuration#commons-configuration;1.6 in central\n",
      "\tfound commons-digester#commons-digester;1.8 in central\n",
      "\tfound commons-beanutils#commons-beanutils;1.7.0 in central\n",
      "\tfound commons-beanutils#commons-beanutils-core;1.8.0 in central\n",
      "\tfound org.slf4j#slf4j-api;1.7.10 in central\n",
      "\tfound org.apache.avro#avro;1.7.4 in central\n",
      "\tfound com.thoughtworks.paranamer#paranamer;2.3 in central\n",
      "\tfound org.xerial.snappy#snappy-java;1.0.4.1 in central\n",
      "\tfound org.apache.commons#commons-compress;1.4.1 in central\n",
      "\tfound org.tukaani#xz;1.0 in central\n",
      "\tfound com.google.protobuf#protobuf-java;2.5.0 in central\n",
      "\tfound com.google.code.gson#gson;2.2.4 in central\n",
      "\tfound org.apache.hadoop#hadoop-auth;2.7.3 in central\n",
      "\tfound org.apache.directory.server#apacheds-kerberos-codec;2.0.0-M15 in central\n",
      "\tfound org.apache.directory.server#apacheds-i18n;2.0.0-M15 in central\n",
      "\tfound org.apache.directory.api#api-asn1-api;1.0.0-M20 in central\n",
      "\tfound org.apache.directory.api#api-util;1.0.0-M20 in central\n",
      "\tfound org.apache.zookeeper#zookeeper;3.4.6 in central\n",
      "\tfound org.slf4j#slf4j-log4j12;1.7.10 in central\n",
      "\tfound io.netty#netty;3.6.2.Final in central\n",
      "\tfound org.apache.curator#curator-framework;2.7.1 in central\n",
      "\tfound org.apache.curator#curator-client;2.7.1 in central\n",
      "\tfound com.jcraft#jsch;0.1.42 in central\n",
      "\tfound org.apache.curator#curator-recipes;2.7.1 in central\n",
      "\tfound org.apache.htrace#htrace-core;3.1.0-incubating in central\n",
      "\tfound javax.servlet.jsp#jsp-api;2.1 in central\n",
      "\tfound jline#jline;0.9.94 in central\n",
      "\tfound com.fasterxml.jackson.core#jackson-databind;2.2.3 in central\n",
      "\tfound com.fasterxml.jackson.core#jackson-annotations;2.2.3 in central\n",
      "\tfound com.fasterxml.jackson.core#jackson-core;2.2.3 in central\n",
      ":: resolution report :: resolve 3825ms :: artifacts dl 26ms\n",
      "\t:: modules in use:\n",
      "\tasm#asm;3.2 from central in [default]\n",
      "\tcom.amazonaws#aws-java-sdk;1.7.4 from central in [default]\n",
      "\tcom.fasterxml.jackson.core#jackson-annotations;2.2.3 from central in [default]\n",
      "\tcom.fasterxml.jackson.core#jackson-core;2.2.3 from central in [default]\n",
      "\tcom.fasterxml.jackson.core#jackson-databind;2.2.3 from central in [default]\n",
      "\tcom.google.code.findbugs#jsr305;3.0.0 from central in [default]\n",
      "\tcom.google.code.gson#gson;2.2.4 from central in [default]\n",
      "\tcom.google.guava#guava;11.0.2 from central in [default]\n",
      "\tcom.google.protobuf#protobuf-java;2.5.0 from central in [default]\n",
      "\tcom.jamesmurty.utils#java-xmlbuilder;0.4 from central in [default]\n",
      "\tcom.jcraft#jsch;0.1.42 from central in [default]\n",
      "\tcom.sun.jersey#jersey-core;1.9 from central in [default]\n",
      "\tcom.sun.jersey#jersey-json;1.9 from central in [default]\n",
      "\tcom.sun.jersey#jersey-server;1.9 from central in [default]\n",
      "\tcom.sun.xml.bind#jaxb-impl;2.2.3-1 from central in [default]\n",
      "\tcom.thoughtworks.paranamer#paranamer;2.3 from central in [default]\n",
      "\tcommons-beanutils#commons-beanutils;1.7.0 from central in [default]\n",
      "\tcommons-beanutils#commons-beanutils-core;1.8.0 from central in [default]\n",
      "\tcommons-cli#commons-cli;1.2 from central in [default]\n",
      "\tcommons-codec#commons-codec;1.4 from central in [default]\n",
      "\tcommons-collections#commons-collections;3.2.2 from central in [default]\n",
      "\tcommons-configuration#commons-configuration;1.6 from central in [default]\n",
      "\tcommons-digester#commons-digester;1.8 from central in [default]\n",
      "\tcommons-httpclient#commons-httpclient;3.1 from central in [default]\n",
      "\tcommons-io#commons-io;2.4 from central in [default]\n",
      "\tcommons-lang#commons-lang;2.6 from central in [default]\n",
      "\tcommons-logging#commons-logging;1.1.3 from central in [default]\n",
      "\tcommons-net#commons-net;3.1 from central in [default]\n",
      "\tio.netty#netty;3.6.2.Final from central in [default]\n",
      "\tjavax.activation#activation;1.1 from central in [default]\n",
      "\tjavax.servlet#servlet-api;2.5 from central in [default]\n",
      "\tjavax.servlet.jsp#jsp-api;2.1 from central in [default]\n",
      "\tjavax.xml.bind#jaxb-api;2.2.2 from central in [default]\n",
      "\tjavax.xml.stream#stax-api;1.0-2 from central in [default]\n",
      "\tjline#jline;0.9.94 from central in [default]\n",
      "\tjoda-time#joda-time;2.12.7 from central in [default]\n",
      "\tlog4j#log4j;1.2.17 from central in [default]\n",
      "\tnet.java.dev.jets3t#jets3t;0.9.0 from central in [default]\n",
      "\torg.apache.avro#avro;1.7.4 from central in [default]\n",
      "\torg.apache.commons#commons-compress;1.4.1 from central in [default]\n",
      "\torg.apache.commons#commons-math3;3.1.1 from central in [default]\n",
      "\torg.apache.curator#curator-client;2.7.1 from central in [default]\n",
      "\torg.apache.curator#curator-framework;2.7.1 from central in [default]\n",
      "\torg.apache.curator#curator-recipes;2.7.1 from central in [default]\n",
      "\torg.apache.directory.api#api-asn1-api;1.0.0-M20 from central in [default]\n",
      "\torg.apache.directory.api#api-util;1.0.0-M20 from central in [default]\n",
      "\torg.apache.directory.server#apacheds-i18n;2.0.0-M15 from central in [default]\n",
      "\torg.apache.directory.server#apacheds-kerberos-codec;2.0.0-M15 from central in [default]\n",
      "\torg.apache.hadoop#hadoop-annotations;2.7.3 from central in [default]\n",
      "\torg.apache.hadoop#hadoop-auth;2.7.3 from central in [default]\n",
      "\torg.apache.hadoop#hadoop-aws;2.7.3 from central in [default]\n",
      "\torg.apache.hadoop#hadoop-common;2.7.3 from central in [default]\n",
      "\torg.apache.htrace#htrace-core;3.1.0-incubating from central in [default]\n",
      "\torg.apache.httpcomponents#httpclient;4.2.5 from central in [default]\n",
      "\torg.apache.httpcomponents#httpcore;4.2.5 from central in [default]\n",
      "\torg.apache.zookeeper#zookeeper;3.4.6 from central in [default]\n",
      "\torg.codehaus.jackson#jackson-core-asl;1.9.13 from central in [default]\n",
      "\torg.codehaus.jackson#jackson-jaxrs;1.9.13 from central in [default]\n",
      "\torg.codehaus.jackson#jackson-mapper-asl;1.9.13 from central in [default]\n",
      "\torg.codehaus.jackson#jackson-xc;1.9.13 from central in [default]\n",
      "\torg.codehaus.jettison#jettison;1.1 from central in [default]\n",
      "\torg.mortbay.jetty#jetty;6.1.26 from central in [default]\n",
      "\torg.mortbay.jetty#jetty-util;6.1.26 from central in [default]\n",
      "\torg.slf4j#slf4j-api;1.7.10 from central in [default]\n",
      "\torg.slf4j#slf4j-log4j12;1.7.10 from central in [default]\n",
      "\torg.tukaani#xz;1.0 from central in [default]\n",
      "\torg.xerial.snappy#snappy-java;1.0.4.1 from central in [default]\n",
      "\txmlenc#xmlenc;0.52 from central in [default]\n",
      "\t:: evicted modules:\n",
      "\tcommons-logging#commons-logging;1.1.1 by [commons-logging#commons-logging;1.1.3] in [default]\n",
      "\torg.apache.httpcomponents#httpclient;4.2 by [org.apache.httpcomponents#httpclient;4.2.5] in [default]\n",
      "\torg.apache.httpcomponents#httpcore;4.2 by [org.apache.httpcomponents#httpcore;4.2.5] in [default]\n",
      "\tcommons-codec#commons-codec;1.6 by [commons-codec#commons-codec;1.3] in [default]\n",
      "\tcommons-codec#commons-codec;1.3 by [commons-codec#commons-codec;1.4] in [default]\n",
      "\tcom.fasterxml.jackson.core#jackson-core;2.1.1 by [com.fasterxml.jackson.core#jackson-core;2.2.3] in [default]\n",
      "\tcom.fasterxml.jackson.core#jackson-databind;2.1.1 by [com.fasterxml.jackson.core#jackson-databind;2.2.3] in [default]\n",
      "\tcom.fasterxml.jackson.core#jackson-annotations;2.1.1 by [com.fasterxml.jackson.core#jackson-annotations;2.2.3] in [default]\n",
      "\t---------------------------------------------------------------------\n",
      "\t|                  |            modules            ||   artifacts   |\n",
      "\t|       conf       | number| search|dwnlded|evicted|| number|dwnlded|\n",
      "\t---------------------------------------------------------------------\n",
      "\t|      default     |   76  |   1   |   0   |   8   ||   68  |   0   |\n",
      "\t---------------------------------------------------------------------\n",
      ":: retrieving :: org.apache.spark#spark-submit-parent-93fc3e7f-a8dc-4ae4-8923-777b42bffe8d\n",
      "\tconfs: [default]\n",
      "\t0 artifacts copied, 68 already retrieved (0kB/17ms)\n",
      "24/04/25 00:48:00 WARN NativeCodeLoader: Unable to load native-hadoop library for your platform... using builtin-java classes where applicable\n",
      "Setting default log level to \"WARN\".\n",
      "To adjust logging level use sc.setLogLevel(newLevel). For SparkR, use setLogLevel(newLevel).\n"
     ]
    }
   ],
   "source": [
    "from finance_complaint.config.spark_manager import spark_session"
   ]
  },
  {
   "cell_type": "code",
   "execution_count": 14,
   "metadata": {},
   "outputs": [],
   "source": [
    "df = spark_session.read.parquet(file_path)"
   ]
  },
  {
   "cell_type": "code",
   "execution_count": 15,
   "metadata": {},
   "outputs": [
    {
     "data": {
      "text/plain": [
       "1353239"
      ]
     },
     "execution_count": 15,
     "metadata": {},
     "output_type": "execute_result"
    }
   ],
   "source": [
    "df.count()"
   ]
  },
  {
   "cell_type": "code",
   "execution_count": 16,
   "metadata": {},
   "outputs": [],
   "source": [
    "from finance_complaint.entity.estimator import S3FinanceEstimator"
   ]
  },
  {
   "cell_type": "code",
   "execution_count": 17,
   "metadata": {},
   "outputs": [],
   "source": [
    "from finance_complaint.constant.model import S3_MODEL_BUCKET_NAME, S3_MODEL_DIR_KEY"
   ]
  },
  {
   "cell_type": "code",
   "execution_count": 18,
   "metadata": {},
   "outputs": [
    {
     "data": {
      "text/plain": [
       "('finance-consumer3', 'model-registry')"
      ]
     },
     "execution_count": 18,
     "metadata": {},
     "output_type": "execute_result"
    }
   ],
   "source": [
    "S3_MODEL_BUCKET_NAME,S3_MODEL_DIR_KEY"
   ]
  },
  {
   "cell_type": "code",
   "execution_count": 19,
   "metadata": {},
   "outputs": [
    {
     "name": "stdout",
     "output_type": "stream",
     "text": [
      "Existing buckets:\n"
     ]
    }
   ],
   "source": [
    "estimator = S3FinanceEstimator(bucket_name=S3_MODEL_BUCKET_NAME, s3_key=S3_MODEL_DIR_KEY)"
   ]
  },
  {
   "cell_type": "code",
   "execution_count": 20,
   "metadata": {},
   "outputs": [
    {
     "name": "stderr",
     "output_type": "stream",
     "text": [
      "                                                                                \r"
     ]
    },
    {
     "name": "stdout",
     "output_type": "stream",
     "text": [
      "{'inputCols': None, 'outputCols': None}\n"
     ]
    }
   ],
   "source": [
    "df = estimator.transform(df)"
   ]
  },
  {
   "cell_type": "code",
   "execution_count": 29,
   "metadata": {},
   "outputs": [
    {
     "name": "stdout",
     "output_type": "stream",
     "text": [
      "+---------------------+-------------+-----------+----------+----------------------------+-----------------+\n",
      "|scaled_input_features|rawPrediction|probability|prediction|prediction_consumer_disputed|consumer_disputed|\n",
      "+---------------------+-------------+-----------+----------+----------------------------+-----------------+\n",
      "| (52,[0,3,7,11,15,...|       [20.0]|      [1.0]|       0.0|                         N/A|              N/A|\n",
      "| (52,[0,3,7,28,34,...|       [20.0]|      [1.0]|       0.0|                         N/A|              N/A|\n",
      "| (52,[0,6,10,11,22...|       [20.0]|      [1.0]|       0.0|                         N/A|              N/A|\n",
      "| (52,[0,4,7,22,23,...|       [20.0]|      [1.0]|       0.0|                         N/A|              N/A|\n",
      "| (52,[0,4,7,11,12,...|       [20.0]|      [1.0]|       0.0|                         N/A|              N/A|\n",
      "| (52,[0,3,7,28,34,...|       [20.0]|      [1.0]|       0.0|                         N/A|              N/A|\n",
      "| (52,[0,6,8,11,22,...|       [20.0]|      [1.0]|       0.0|                         N/A|              N/A|\n",
      "| (52,[0,3,7,22,23,...|       [20.0]|      [1.0]|       0.0|                         N/A|              N/A|\n",
      "| (52,[0,3,7,18,22,...|       [20.0]|      [1.0]|       0.0|                         N/A|              N/A|\n",
      "| (52,[0,5,7,25,27,...|       [20.0]|      [1.0]|       0.0|                         N/A|              N/A|\n",
      "| (52,[1,5,7,28,34,...|       [20.0]|      [1.0]|       0.0|                         N/A|              N/A|\n",
      "| (52,[0,5,7,28,34,...|       [20.0]|      [1.0]|       0.0|                         N/A|              N/A|\n",
      "| (52,[0,3,7,28,34,...|       [20.0]|      [1.0]|       0.0|                         N/A|              N/A|\n",
      "| (52,[0,3,7,11,29,...|       [20.0]|      [1.0]|       0.0|                         N/A|              N/A|\n",
      "| (52,[1,3,7,28,34,...|       [20.0]|      [1.0]|       0.0|                         N/A|              N/A|\n",
      "| (52,[1,3,7,15,17,...|       [20.0]|      [1.0]|       0.0|                         N/A|              N/A|\n",
      "| (52,[0,5,7,28,34,...|       [20.0]|      [1.0]|       0.0|                         N/A|              N/A|\n",
      "| (52,[0,3,7,28,34,...|       [20.0]|      [1.0]|       0.0|                         N/A|              N/A|\n",
      "| (52,[1,3,7,28,34,...|       [20.0]|      [1.0]|       0.0|                         N/A|              N/A|\n",
      "| (52,[0,4,7,25,27,...|       [20.0]|      [1.0]|       0.0|                         N/A|              N/A|\n",
      "| (52,[0,5,7,28,34,...|       [20.0]|      [1.0]|       0.0|                         N/A|              N/A|\n",
      "| (52,[0,3,7,22,23,...|       [20.0]|      [1.0]|       0.0|                         N/A|              N/A|\n",
      "| (52,[1,3,7,28,34,...|       [20.0]|      [1.0]|       0.0|                         N/A|              N/A|\n",
      "| (52,[0,3,7,11,14,...|       [20.0]|      [1.0]|       0.0|                         N/A|              N/A|\n",
      "| (52,[0,3,7,28,34,...|       [20.0]|      [1.0]|       0.0|                         N/A|              N/A|\n",
      "| (52,[1,6,8,28,34,...|       [20.0]|      [1.0]|       0.0|                         N/A|              N/A|\n",
      "| (52,[0,3,7,15,17,...|       [20.0]|      [1.0]|       0.0|                         N/A|              N/A|\n",
      "| (52,[0,3,7,22,34,...|       [20.0]|      [1.0]|       0.0|                         N/A|              N/A|\n",
      "| (52,[0,4,7,28,34,...|       [20.0]|      [1.0]|       0.0|                         N/A|              N/A|\n",
      "| (52,[1,3,7,25,27,...|       [20.0]|      [1.0]|       0.0|                         N/A|              N/A|\n",
      "| (52,[1,3,7,22,23,...|       [20.0]|      [1.0]|       0.0|                         N/A|              N/A|\n",
      "| (52,[1,6,8,28,34,...|       [20.0]|      [1.0]|       0.0|                         N/A|              N/A|\n",
      "| (52,[0,3,7,25,27,...|       [20.0]|      [1.0]|       0.0|                         N/A|              N/A|\n",
      "| (52,[1,3,7,20,23,...|       [20.0]|      [1.0]|       0.0|                         N/A|              N/A|\n",
      "| (52,[0,4,7,15,17,...|       [20.0]|      [1.0]|       0.0|                         N/A|              N/A|\n",
      "| (52,[0,3,7,14,33]...|       [20.0]|      [1.0]|       0.0|                         N/A|              N/A|\n",
      "| (52,[0,3,7,11,25,...|       [20.0]|      [1.0]|       0.0|                         N/A|              N/A|\n",
      "| (52,[0,3,7,28,34,...|       [20.0]|      [1.0]|       0.0|                         N/A|              N/A|\n",
      "| (52,[1,3,7,28,34,...|       [20.0]|      [1.0]|       0.0|                         N/A|              N/A|\n",
      "| (52,[0,3,7,15,17,...|       [20.0]|      [1.0]|       0.0|                         N/A|              N/A|\n",
      "| (52,[1,3,7,28,34,...|       [20.0]|      [1.0]|       0.0|                         N/A|              N/A|\n",
      "| (52,[0,3,7,28,34,...|       [20.0]|      [1.0]|       0.0|                         N/A|              N/A|\n",
      "| (52,[0,3,7,28,34,...|       [20.0]|      [1.0]|       0.0|                         N/A|              N/A|\n",
      "| (52,[1,6,8,28,34,...|       [20.0]|      [1.0]|       0.0|                         N/A|              N/A|\n",
      "| (52,[1,3,7,28,34,...|       [20.0]|      [1.0]|       0.0|                         N/A|              N/A|\n",
      "| (52,[0,3,7,25,27,...|       [20.0]|      [1.0]|       0.0|                         N/A|              N/A|\n",
      "| (52,[1,3,7,28,34,...|       [20.0]|      [1.0]|       0.0|                         N/A|              N/A|\n",
      "| (52,[0,5,7,28,34,...|       [20.0]|      [1.0]|       0.0|                         N/A|              N/A|\n",
      "| (52,[0,5,7,22,23,...|       [20.0]|      [1.0]|       0.0|                         N/A|              N/A|\n",
      "| (52,[1,3,7,28,34,...|       [20.0]|      [1.0]|       0.0|                         N/A|              N/A|\n",
      "| (52,[1,3,7,25,27,...|       [20.0]|      [1.0]|       0.0|                         N/A|              N/A|\n",
      "| (52,[1,4,7,22,23,...|       [20.0]|      [1.0]|       0.0|                         N/A|              N/A|\n",
      "| (52,[1,3,7,28,34,...|       [20.0]|      [1.0]|       0.0|                         N/A|              N/A|\n",
      "| (52,[0,5,7,25,27,...|       [20.0]|      [1.0]|       0.0|                         N/A|              N/A|\n",
      "| (52,[1,3,7,28,34,...|       [20.0]|      [1.0]|       0.0|                         N/A|              N/A|\n",
      "| (52,[1,3,7,28,34,...|       [20.0]|      [1.0]|       0.0|                         N/A|              N/A|\n",
      "| (52,[0,4,7,22,23,...|       [20.0]|      [1.0]|       0.0|                         N/A|              N/A|\n",
      "| (52,[0,5,7,28,34,...|       [20.0]|      [1.0]|       0.0|                         N/A|              N/A|\n",
      "| (52,[0,3,7,25,27,...|       [20.0]|      [1.0]|       0.0|                         N/A|              N/A|\n",
      "| (52,[1,3,7,28,34,...|       [20.0]|      [1.0]|       0.0|                         N/A|              N/A|\n",
      "| (52,[0,3,7,25,27,...|       [20.0]|      [1.0]|       0.0|                         N/A|              N/A|\n",
      "| (52,[0,3,7,22,23,...|       [20.0]|      [1.0]|       0.0|                         N/A|              N/A|\n",
      "| (52,[1,5,7,28,34,...|       [20.0]|      [1.0]|       0.0|                         N/A|              N/A|\n",
      "| (52,[1,3,7,28,34,...|       [20.0]|      [1.0]|       0.0|                         N/A|              N/A|\n",
      "| (52,[1,3,7,25,27,...|       [20.0]|      [1.0]|       0.0|                         N/A|              N/A|\n",
      "| (52,[0,3,7,28,34,...|       [20.0]|      [1.0]|       0.0|                         N/A|              N/A|\n",
      "| (52,[1,3,7,22,23,...|       [20.0]|      [1.0]|       0.0|                         N/A|              N/A|\n",
      "| (52,[0,4,7,12,19,...|       [20.0]|      [1.0]|       0.0|                         N/A|              N/A|\n",
      "| (52,[0,3,7,28,34,...|       [20.0]|      [1.0]|       0.0|                         N/A|              N/A|\n",
      "| (52,[1,3,7,25,27,...|       [20.0]|      [1.0]|       0.0|                         N/A|              N/A|\n",
      "| (52,[1,3,7,28,34,...|       [20.0]|      [1.0]|       0.0|                         N/A|              N/A|\n",
      "| (52,[1,3,7,28,34,...|       [20.0]|      [1.0]|       0.0|                         N/A|              N/A|\n",
      "| (52,[0,3,7,22,23,...|       [20.0]|      [1.0]|       0.0|                         N/A|              N/A|\n",
      "| (52,[1,5,7,25,27,...|       [20.0]|      [1.0]|       0.0|                         N/A|              N/A|\n",
      "| (52,[1,3,7,28,34,...|       [20.0]|      [1.0]|       0.0|                         N/A|              N/A|\n",
      "| (52,[1,5,7,22,23,...|       [20.0]|      [1.0]|       0.0|                         N/A|              N/A|\n",
      "| (52,[1,3,7,28,34,...|       [20.0]|      [1.0]|       0.0|                         N/A|              N/A|\n",
      "| (52,[1,3,7,22,23,...|       [20.0]|      [1.0]|       0.0|                         N/A|              N/A|\n",
      "| (52,[0,4,7,13,21,...|       [20.0]|      [1.0]|       0.0|                         N/A|              N/A|\n",
      "| (52,[0,3,7,22,23,...|       [20.0]|      [1.0]|       0.0|                         N/A|              N/A|\n",
      "| (52,[0,4,7,25,27,...|       [20.0]|      [1.0]|       0.0|                         N/A|              N/A|\n",
      "| (52,[0,4,7,28,34,...|       [20.0]|      [1.0]|       0.0|                         N/A|              N/A|\n",
      "| (52,[1,3,7,28,34,...|       [20.0]|      [1.0]|       0.0|                         N/A|              N/A|\n",
      "| (52,[1,3,7,25,27,...|       [20.0]|      [1.0]|       0.0|                         N/A|              N/A|\n",
      "| (52,[1,5,7,28,34,...|       [20.0]|      [1.0]|       0.0|                         N/A|              N/A|\n",
      "| (52,[0,5,7,22,23,...|       [20.0]|      [1.0]|       0.0|                         N/A|              N/A|\n",
      "| (52,[0,3,7,25,27,...|       [20.0]|      [1.0]|       0.0|                         N/A|              N/A|\n",
      "| (52,[0,4,7,25,27,...|       [20.0]|      [1.0]|       0.0|                         N/A|              N/A|\n",
      "| (52,[0,3,7,28,34,...|       [20.0]|      [1.0]|       0.0|                         N/A|              N/A|\n",
      "| (52,[0,4,7,11,20,...|       [20.0]|      [1.0]|       0.0|                         N/A|              N/A|\n",
      "| (52,[1,4,7,28,34,...|       [20.0]|      [1.0]|       0.0|                         N/A|              N/A|\n",
      "| (52,[0,5,7,28,34,...|       [20.0]|      [1.0]|       0.0|                         N/A|              N/A|\n",
      "| (52,[1,3,7,22,23,...|       [20.0]|      [1.0]|       0.0|                         N/A|              N/A|\n",
      "| (52,[1,3,7,25,27,...|       [20.0]|      [1.0]|       0.0|                         N/A|              N/A|\n",
      "| (52,[1,4,7,28,34,...|       [20.0]|      [1.0]|       0.0|                         N/A|              N/A|\n",
      "| (52,[0,3,7,28,34,...|       [20.0]|      [1.0]|       0.0|                         N/A|              N/A|\n",
      "| (52,[0,3,7,14,33]...|       [20.0]|      [1.0]|       0.0|                         N/A|              N/A|\n",
      "| (52,[1,3,7,28,34,...|       [20.0]|      [1.0]|       0.0|                         N/A|              N/A|\n",
      "| (52,[0,5,7,25,27,...|       [20.0]|      [1.0]|       0.0|                         N/A|              N/A|\n",
      "| (52,[1,4,7,25,27,...|       [20.0]|      [1.0]|       0.0|                         N/A|              N/A|\n",
      "+---------------------+-------------+-----------+----------+----------------------------+-----------------+\n",
      "only showing top 100 rows\n",
      "\n"
     ]
    },
    {
     "name": "stderr",
     "output_type": "stream",
     "text": [
      "                                                                                \r"
     ]
    }
   ],
   "source": [
    "df.select([ 'scaled_input_features',\n",
    " 'rawPrediction',\n",
    " 'probability',\n",
    " 'prediction',\n",
    " 'prediction_consumer_disputed','consumer_disputed']).show(100)"
   ]
  },
  {
   "cell_type": "code",
   "execution_count": null,
   "metadata": {},
   "outputs": [],
   "source": []
  }
 ],
 "metadata": {
  "kernelspec": {
   "display_name": "Python 3.8.0 (conda)",
   "language": "python",
   "name": "python3"
  },
  "language_info": {
   "codemirror_mode": {
    "name": "ipython",
    "version": 3
   },
   "file_extension": ".py",
   "mimetype": "text/x-python",
   "name": "python",
   "nbconvert_exporter": "python",
   "pygments_lexer": "ipython3",
   "version": "3.12.0"
  },
  "orig_nbformat": 4,
  "vscode": {
   "interpreter": {
    "hash": "ca10b06f67aec480768f73175b624e64105dd9bf692c2b6d6fc94502ce4ba749"
   }
  }
 },
 "nbformat": 4,
 "nbformat_minor": 2
}
